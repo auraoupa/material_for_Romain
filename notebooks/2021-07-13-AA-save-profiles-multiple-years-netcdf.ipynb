{
 "cells": [
  {
   "cell_type": "markdown",
   "id": "6fa648ce",
   "metadata": {},
   "source": [
    "# Save profiles from mulitple files in a netcdf file\n",
    "\n"
   ]
  },
  {
   "cell_type": "markdown",
   "id": "1ebc3af7",
   "metadata": {},
   "source": [
    "## All the imports"
   ]
  },
  {
   "cell_type": "code",
   "execution_count": 6,
   "id": "cc5557e9",
   "metadata": {},
   "outputs": [],
   "source": [
    "import glob\n",
    "\n",
    "#To deal with data\n",
    "import xarray as xr\n",
    "\n",
    "#For basic calculus\n",
    "import numpy as np\n",
    "import numpy.ma as ma\n",
    "\n"
   ]
  },
  {
   "cell_type": "markdown",
   "id": "9230ce00",
   "metadata": {},
   "source": [
    "## Paths to data"
   ]
  },
  {
   "cell_type": "code",
   "execution_count": 7,
   "id": "03c7216e",
   "metadata": {},
   "outputs": [],
   "source": [
    "#the path where all data are stored\n",
    "path_occiput_obs='/mnt/alberta/equipes/IGE/meom/MODEL_SET/ORCA025.L75/ORCA025.L75-OCCITENS/OBS'\n"
   ]
  },
  {
   "cell_type": "markdown",
   "id": "47b21e84",
   "metadata": {},
   "source": [
    "## Functions"
   ]
  },
  {
   "cell_type": "code",
   "execution_count": 8,
   "id": "977dda4b",
   "metadata": {},
   "outputs": [],
   "source": [
    "def selec_one_argo_one_year_all_runs(station,year):\n",
    "    #first run first\n",
    "    path=path_occiput_obs+'/OBS-enact_y'+str(year)\n",
    "    file1=path+'/ORCA025.L75-OCCITENS.001_y'+str(year)+'_enact_fdbk.nc'\n",
    "    ds1=xr.open_dataset(file1,decode_times=False)\n",
    "    stations=ds1.STATION_IDENTIFIER\n",
    "    ind=np.where(stations==station)\n",
    "    ds1_argo_selec=ds1.sel(N_OBS=ind[0]) \n",
    "\n",
    "    POTM_Hx_concat=ds1_argo_selec.POTM_Hx\n",
    "    PSAL_Hx_concat=ds1_argo_selec.PSAL_Hx\n",
    "    \n",
    "    #loop on all other years and concatenate\n",
    "    for k in np.arange(1,50):\n",
    "        kk=\"{:03d}\".format(k)\n",
    "        file=path+'/ORCA025.L75-OCCITENS.'+str(kk)+'_y'+str(year)+'_enact_fdbk.nc'\n",
    "        ds=xr.open_dataset(file,decode_times=False)\n",
    "        ds_argo_selec=ds.sel(N_OBS=ind[0])\n",
    "        POTM_Hx=ds_argo_selec.POTM_Hx\n",
    "        PSAL_Hx=ds_argo_selec.PSAL_Hx\n",
    "        POTM_Hx_concat=xr.concat([POTM_Hx_concat, POTM_Hx], \"ensemble\")\n",
    "        PSAL_Hx_concat=xr.concat([PSAL_Hx_concat, PSAL_Hx], \"ensemble\")\n",
    "        \n",
    "    #replace model data in the first file by the concatenated 50 runs with dimension ensemble\n",
    "    ds_argo_selec=ds1_argo_selec.drop_vars({'POTM_Hx','PSAL_Hx'})\n",
    "    ds_argo_selec['POTM_Hx']=POTM_Hx_concat\n",
    "    ds_argo_selec['PSAL_Hx']=PSAL_Hx_concat\n",
    "    return ds_argo_selec\n",
    "    \n",
    "    \n",
    "def selec_one_argo_years_all_runs(station,year1,year2):\n",
    "    #first year first\n",
    "    ds_concat=selec_one_argo_one_year_all_runs(station,year1)\n",
    "    #loop on the other years\n",
    "    for year in np.arange(year1+1,year2+1):\n",
    "        ds=selec_one_argo_one_year_all_runs(station,year)\n",
    "        ds_concat=xr.concat([ds_concat,ds],dim='N_OBS')\n",
    "        \n",
    "    #write on disk\n",
    "    stat=str(station.values)\n",
    "    str_stat=stat[2:7]\n",
    "    ds_concat.to_netcdf('/mnt/alberta/equipes/IGE/meom/workdir/alberta/ARGO/selec_profiles/ARGO'+str(str_stat)+'_y'+str(year1)+'-'+str(year2)+'_r1-50.nc')\n"
   ]
  },
  {
   "cell_type": "markdown",
   "id": "92412b82",
   "metadata": {},
   "source": [
    "## Test avec un profil\n",
    "\n",
    "de 2010 à 2012 150 niveaux verticaux et de 2013 à 2015 400 niveaux"
   ]
  },
  {
   "cell_type": "markdown",
   "id": "10570ba1",
   "metadata": {},
   "source": [
    "### Select one argo float in one year file"
   ]
  },
  {
   "cell_type": "code",
   "execution_count": 9,
   "id": "dba5c0b4",
   "metadata": {},
   "outputs": [],
   "source": [
    "#test for one year\n",
    "path2010=path_occiput_obs+'/OBS-enact_y2010'\n",
    "one_file2010=path2010+'/ORCA025.L75-OCCITENS.001_y2010_enact_fdbk.nc'\n",
    "ds_one2010=xr.open_dataset(one_file2010,decode_times=False)\n",
    "stations=ds_one2010.STATION_IDENTIFIER\n",
    "stat44032=stations[100]"
   ]
  },
  {
   "cell_type": "markdown",
   "id": "f6734a13",
   "metadata": {},
   "source": [
    "### Process the concatenation of 3 years in one file"
   ]
  },
  {
   "cell_type": "code",
   "execution_count": 10,
   "id": "de851100",
   "metadata": {},
   "outputs": [
    {
     "name": "stdout",
     "output_type": "stream",
     "text": [
      "CPU times: user 1min 52s, sys: 29 s, total: 2min 21s\n",
      "Wall time: 9min 42s\n"
     ]
    }
   ],
   "source": [
    "%%time\n",
    "selec_one_argo_years_all_runs(stat44032,2010,2012)"
   ]
  },
  {
   "cell_type": "code",
   "execution_count": null,
   "id": "ee921204",
   "metadata": {},
   "outputs": [],
   "source": [
    "%%time\n",
    "selec_one_argo_years_all_runs(stat44032,2013,2015)"
   ]
  },
  {
   "cell_type": "code",
   "execution_count": null,
   "id": "c77c6ea5",
   "metadata": {},
   "outputs": [],
   "source": []
  }
 ],
 "metadata": {
  "kernelspec": {
   "display_name": "argo",
   "language": "python",
   "name": "argo"
  },
  "language_info": {
   "codemirror_mode": {
    "name": "ipython",
    "version": 3
   },
   "file_extension": ".py",
   "mimetype": "text/x-python",
   "name": "python",
   "nbconvert_exporter": "python",
   "pygments_lexer": "ipython3",
   "version": "3.9.5"
  }
 },
 "nbformat": 4,
 "nbformat_minor": 5
}
